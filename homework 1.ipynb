{
 "cells": [
  {
   "cell_type": "markdown",
   "metadata": {
    "azdata_cell_guid": "1d393d68-ae8f-42bb-ae89-ced5aa74e3e0"
   },
   "source": [
    "# <span style=\"color:green\"> Start Here </span> \n",
    "\n",
    "[Please Complete the following form with your details]\n",
    "\n",
    "Student Name - Catarina Gonçalves Nunes<br>\n",
    "Student id - 20230083<br>\n",
    "Contact e-mail - 913822283; 20230083@novaims.unl.pt<br>\n",
    "\n",
    "\n",
    "Student Name - Mariana Figueiredo Mascarenhas Abreu<br> \n",
    "Student id - 20240606<br>\n",
    "Contact e-mail - 964373763; 20240606@novaims.unl.pt<br>"
   ]
  },
  {
   "cell_type": "code",
   "execution_count": null,
   "metadata": {},
   "outputs": [],
   "source": [
    "Disclamair: The following code has inspiration from sources listed thout the code, course materials, previous notebooks and Chat GPT corrections and adaptations."
   ]
  },
  {
   "cell_type": "code",
   "execution_count": 3,
   "metadata": {},
   "outputs": [],
   "source": [
    "#We will place all the imported packages in one initial cell. This ensures that if any exercise requires a specific package, \n",
    "#it is already imported and doesn't depend on another exercise. Additionally, by importing packages at the beginning, we avoid\n",
    "#the need to import the same package multiple times throughout the notebook.\n",
    "import random  # importing random so we can use the method randint.\n",
    "import os #to load relative filepath of the text file alice.txt \n",
    "import re\n",
    "import csv #to load relative filepath of the csv file  cdata.csv\n",
    "import math"
   ]
  },
  {
   "cell_type": "markdown",
   "metadata": {
    "azdata_cell_guid": "ff32f3e5-95ee-42c2-9bc7-8bfc38cb9c7f"
   },
   "source": [
    "# <span style=\"color:brown\"> Part 1 -  Variable Declaration and Manipulation </span> \n",
    "\n",
    "## Exercise I - of Lists and Random numbers\n",
    "\n",
    "**1**: Declare a variable X that stores a list of 100 integers randomly sampled between -100 and 100.<br>\n",
    "Note: You are not allowed to use third party libraries -- such as Numpy, Pandas, or Scipy -- in this exercise."
   ]
  },
  {
   "cell_type": "code",
   "execution_count": 5,
   "metadata": {},
   "outputs": [
    {
     "name": "stdout",
     "output_type": "stream",
     "text": [
      "[-77, -54, -86, 52, 43, -21, -27, 23, 59, 9, -86, 77, -66, 38, -40, -54, -62, -89, -49, 60, -62, -98, 7, -84, 15, 14, -39, -18, 85, -74, -55, -86, 100, -18, 68, -99, -68, 13, -6, 94, 22, 72, 23, 1, -10, 42, 78, 83, 66, -45, 96, -60, 12, -98, -95, -92, -16, -3, 64, -45, -40, 13, -28, -12, -41, -7, -30, -58, -68, 77, -73, -32, -21, -74, -80, 24, -72, -15, 43, 51, 73, 82, -49, 68, -3, -86, -64, -53, -58, -56, -39, -63, 69, 76, 80, -19, 54, -18, 85, 41]\n"
     ]
    }
   ],
   "source": [
    "# The randint(start, stop) method returns a random integer between start and stop, inclusive.\n",
    "\n",
    "# Declaring the variable X with a list of 100 random integers between -100 and 100 using list comprehension\n",
    "X = [random.randint(-100, 100) for _ in range(100)]\n",
    "\n",
    "# Printing the list X\n",
    "print(X)"
   ]
  },
  {
   "cell_type": "markdown",
   "metadata": {
    "azdata_cell_guid": "0a8bed9d-995d-4d37-9865-6794d0caeb5c"
   },
   "source": [
    "**2**: How many odd numbers are in list X?"
   ]
  },
  {
   "cell_type": "code",
   "execution_count": 8,
   "metadata": {},
   "outputs": [
    {
     "name": "stdout",
     "output_type": "stream",
     "text": [
      "Number of odd numbers in the list X: 43\n"
     ]
    }
   ],
   "source": [
    "# Use list comprehension to count the odd numbers in the generated list X\n",
    "odd_count = len([num for num in X if num % 2 != 0]) #The modulus operator (%) is used to determine the remainder when the number is divided by 2. If a number is even, dividing it by 2 the remainer will be of 0.\n",
    "\n",
    "# Printing the result\n",
    "print(f\"Number of odd numbers in the list X: {odd_count}\")"
   ]
  },
  {
   "cell_type": "markdown",
   "metadata": {
    "azdata_cell_guid": "13a342b4-040c-44db-a675-5fdff402144e"
   },
   "source": [
    "**2.1** Check if there are as many even numbers as there are odd numbers, else discard the list and generate a new one."
   ]
  },
  {
   "cell_type": "code",
   "execution_count": 11,
   "metadata": {},
   "outputs": [
    {
     "name": "stdout",
     "output_type": "stream",
     "text": [
      "Odd count: 43, Even count: 57\n",
      "Odd and even counts are not equal, generating a new list...\n",
      "Odd count: 38, Even count: 62\n",
      "Odd and even counts are not equal, generating a new list...\n",
      "Odd count: 43, Even count: 57\n",
      "Odd and even counts are not equal, generating a new list...\n",
      "Odd count: 53, Even count: 47\n",
      "Odd and even counts are not equal, generating a new list...\n",
      "Odd count: 59, Even count: 41\n",
      "Odd and even counts are not equal, generating a new list...\n",
      "Odd count: 49, Even count: 51\n",
      "Odd and even counts are not equal, generating a new list...\n",
      "Odd count: 44, Even count: 56\n",
      "Odd and even counts are not equal, generating a new list...\n",
      "Odd count: 43, Even count: 57\n",
      "Odd and even counts are not equal, generating a new list...\n",
      "Odd count: 51, Even count: 49\n",
      "Odd and even counts are not equal, generating a new list...\n",
      "Odd count: 51, Even count: 49\n",
      "Odd and even counts are not equal, generating a new list...\n",
      "Odd count: 43, Even count: 57\n",
      "Odd and even counts are not equal, generating a new list...\n",
      "Odd count: 49, Even count: 51\n",
      "Odd and even counts are not equal, generating a new list...\n",
      "Odd count: 44, Even count: 56\n",
      "Odd and even counts are not equal, generating a new list...\n",
      "Odd count: 43, Even count: 57\n",
      "Odd and even counts are not equal, generating a new list...\n",
      "Odd count: 55, Even count: 45\n",
      "Odd and even counts are not equal, generating a new list...\n",
      "Odd count: 45, Even count: 55\n",
      "Odd and even counts are not equal, generating a new list...\n",
      "Odd count: 50, Even count: 50\n",
      "Hurray! The list has the same number of odd and even numbers :)\n",
      "Generated list with equal odd and even numbers: [36, -70, 3, 28, -27, -9, -50, -78, 36, -50, 13, -33, 15, -45, 31, -10, -28, 29, -84, -100, 59, -26, 47, -98, 34, -60, -18, 90, -5, -5, -41, 80, -5, -71, -53, 3, -21, -26, -78, -1, -3, -99, -48, -15, -93, -18, 98, 89, 31, -80, 58, -96, -82, -21, 21, 76, -71, 16, 52, -4, 33, -63, -4, -70, -10, 13, 100, -9, -85, -7, 34, -87, -31, -5, 69, -41, 58, -10, -21, 69, 96, 6, -46, 64, -86, -50, 43, -57, 82, 85, 46, 28, -15, -23, 2, 48, -63, 97, -27, 74]\n"
     ]
    }
   ],
   "source": [
    "# Count even numbers by subtracting odd numbers from the total\n",
    "even_count = len(X) - odd_count\n",
    "\n",
    "# Check if the list meets the condition of having equal odd and even numbers\n",
    "while odd_count != even_count:\n",
    "    print(f\"Odd count: {odd_count}, Even count: {even_count}\")\n",
    "    print(\"Odd and even counts are not equal, generating a new list...\")\n",
    "    \n",
    "    # Generate a new list X\n",
    "    X = [random.randint(-100, 100) for _ in range(100)]\n",
    "    \n",
    "    # Recalculate odd and even counts\n",
    "    odd_count = len([num for num in X if num % 2 != 0])\n",
    "    even_count = len(X) - odd_count\n",
    "\n",
    "# If the condition is met, print the final counts and the list\n",
    "print(f\"Odd count: {odd_count}, Even count: {even_count}\")\n",
    "print(\"Hurray! The list has the same number of odd and even numbers :)\")\n",
    "print(\"Generated list with equal odd and even numbers:\", X)"
   ]
  },
  {
   "cell_type": "markdown",
   "metadata": {
    "azdata_cell_guid": "1f71a1d1-dfe9-4fb3-b999-8ef232f07331"
   },
   "source": [
    "**2.2** Create a pipeline to automatically perform the tasks above such that you avoid having to run the cells multiple times to reach the desired outcome."
   ]
  },
  {
   "cell_type": "code",
   "execution_count": 14,
   "metadata": {},
   "outputs": [
    {
     "name": "stdout",
     "output_type": "stream",
     "text": [
      "Odd count: 42, Even count: 58\n",
      "Odd count: 45, Even count: 55\n",
      "Odd count: 45, Even count: 55\n",
      "Odd count: 51, Even count: 49\n",
      "Odd count: 60, Even count: 40\n",
      "Odd count: 52, Even count: 48\n",
      "Odd count: 54, Even count: 46\n",
      "Odd count: 52, Even count: 48\n",
      "Odd count: 45, Even count: 55\n",
      "Odd count: 43, Even count: 57\n",
      "Odd count: 45, Even count: 55\n",
      "Odd count: 50, Even count: 50\n",
      "Hurray! List has equal number of odd and even numbers :)\n",
      "Generated list X: [35, -15, -83, 39, -65, 66, 71, 89, 70, -78, 3, 66, -4, 69, 61, -86, 33, -51, 93, 83, 32, -66, 62, -91, -46, 87, -29, -20, 83, -44, -46, -39, 8, 43, 95, -58, 61, -89, 54, 56, 7, -64, 47, 15, -64, 74, -89, -31, -52, -82, -3, 26, 27, -50, -81, 23, 48, -61, -29, -34, -14, -64, -99, 32, -80, -69, -19, 92, -57, 74, -93, -27, 48, 61, 93, -58, 19, 67, 38, -1, 48, 100, 69, -30, -19, -26, -94, -53, -12, 40, -50, -16, -95, 82, -42, -70, -66, 18, -71, -22]\n"
     ]
    }
   ],
   "source": [
    "# First, we generate the list, this time using a function so that we can reuse it later when needing to regenerate the list. Lso, we can showcase a different way to approach the problems above.\n",
    "def generate_list():\n",
    "    \"\"\"Generates a list of 100 integers randomly sampled between -100 and 100.\"\"\"\n",
    "    return [random.randint(-100, 100) for _ in range(100)]\n",
    "\n",
    "#How many odd numbers are in list X? This function answers to that and also returns the even count to be use in the final pipeline \n",
    "def count_odd_even(lst): # Input needed - list lst\n",
    "    \"\"\"Counts the odd and even numbers in the list.\"\"\"\n",
    "    odd_count = len([num for num in lst if num % 2 != 0])\n",
    "    even_count = len(lst) - odd_count \n",
    "    return odd_count, even_count\n",
    "\n",
    "# Final pipeline to generate a list with equal numbers of odd and even integers.\n",
    "def equal_odd_even_list():\n",
    "    \"\"\"Continuously generates lists until the number of odd and even numbers is equal.\"\"\"\n",
    "    while True:\n",
    "        X = generate_list()\n",
    "        odd_count, even_count = count_odd_even(X)\n",
    "        \n",
    "        print(f\"Odd count: {odd_count}, Even count: {even_count}\")\n",
    "        \n",
    "        if odd_count == even_count:\n",
    "            print(\"Hurray! List has equal number of odd and even numbers :)\")\n",
    "            return X  # This returns the list when the condition is fulfilled.\n",
    "\n",
    "# Run the pipeline\n",
    "X = equal_odd_even_list()\n",
    "print(\"Generated list X:\", X)"
   ]
  },
  {
   "cell_type": "markdown",
   "metadata": {
    "azdata_cell_guid": "f70a5856-4aa1-4d40-8bba-df9aa90663c3"
   },
   "source": [
    "**3**: Print the number of digits that the 5th and 100th element of the list have. <br>\n",
    "*Note: For instance, the number 1 contains one digit, the number 10 contains two digits, the number -2 contains one digit.*"
   ]
  },
  {
   "cell_type": "code",
   "execution_count": 17,
   "metadata": {},
   "outputs": [
    {
     "name": "stdout",
     "output_type": "stream",
     "text": [
      "5th element: -65, Number of digits: 2\n",
      "100th element: -22, Number of digits: 2\n"
     ]
    }
   ],
   "source": [
    "# # We define a function so we can reuse it in different indexes\n",
    "def num_digits(n):\n",
    "    \"\"\" Function to count the number of digits that a element of the list has \"\"\"\n",
    "    return len(str(abs(n)))  # Convert number to string and count the digits\n",
    "\n",
    "fifth_digit_count = num_digits(X[4])   # 5º element is in the position index 4 (index starts at 0)\n",
    "hundredth_digit_count = num_digits(X[99])  #100º element is in the position index 99\n",
    "\n",
    "#The results:\n",
    "print(f\"5th element: {X[4]}, Number of digits: {fifth_digit_count}\")\n",
    "print(f\"100th element: {X[99]}, Number of digits: {hundredth_digit_count}\")"
   ]
  },
  {
   "cell_type": "markdown",
   "metadata": {
    "azdata_cell_guid": "956df33a-197e-4eb1-9140-47b5baf0cc56"
   },
   "source": [
    "**4**: Is the sum total of all the numbers in the list even or odd?"
   ]
  },
  {
   "cell_type": "code",
   "execution_count": 20,
   "metadata": {},
   "outputs": [
    {
     "name": "stdout",
     "output_type": "stream",
     "text": [
      "The total sum of the list is even: -290\n"
     ]
    }
   ],
   "source": [
    "if sum(X) % 2 == 0: #The modulus operator (%) is used to see the remainder when the total sum is divided by 2. If a number is even, dividing it by 2 the remainder will be 0.\n",
    "    print(f\"The total sum of the list is even: {sum(X)}\")\n",
    "else:\n",
    "    print(f\"The total sum of the list is odd: {sum(X)}\")"
   ]
  },
  {
   "cell_type": "markdown",
   "metadata": {
    "azdata_cell_guid": "18871436-cc9e-4be8-bab6-a234811075f5"
   },
   "source": [
    "**5**: What is the average of the list X?"
   ]
  },
  {
   "cell_type": "code",
   "execution_count": 23,
   "metadata": {},
   "outputs": [
    {
     "name": "stdout",
     "output_type": "stream",
     "text": [
      "average of the list X: -2.9\n"
     ]
    }
   ],
   "source": [
    "average_X = sum(X) / len(X)\n",
    "print(f\"average of the list X: {average_X}\") #or import statistics (built- in) and statistics.mean(X) is another method"
   ]
  },
  {
   "cell_type": "markdown",
   "metadata": {
    "azdata_cell_guid": "41ce70ff-8b64-404e-a29e-4032972a010a"
   },
   "source": [
    "**5.1.** What is the population standard deviation? <br>"
   ]
  },
  {
   "cell_type": "code",
   "execution_count": 26,
   "metadata": {},
   "outputs": [
    {
     "name": "stdout",
     "output_type": "stream",
     "text": [
      "Population standard deviation of list X: 59.68883962482079\n"
     ]
    }
   ],
   "source": [
    "stddev_X = (sum([(x - average_X) ** 2 for x in X]) / (len(X) - 1)) ** 0.5\n",
    "print(f\"Population standard deviation of list X: {stddev_X}\") #or import statistics (built- in) and statistics.stdev(X) is another method"
   ]
  },
  {
   "cell_type": "markdown",
   "metadata": {
    "azdata_cell_guid": "c611858d-a78f-4d5d-87aa-c94ef43aacd3"
   },
   "source": [
    "**6**: Sort list X in descending order and store the result in variable Xsort. <br>"
   ]
  },
  {
   "cell_type": "code",
   "execution_count": 29,
   "metadata": {},
   "outputs": [
    {
     "name": "stdout",
     "output_type": "stream",
     "text": [
      "List X sorted in descending order: [100, 95, 93, 93, 92, 89, 87, 83, 83, 82, 74, 74, 71, 70, 69, 69, 67, 66, 66, 62, 61, 61, 61, 56, 54, 48, 48, 48, 47, 43, 40, 39, 38, 35, 33, 32, 32, 27, 26, 23, 19, 18, 15, 8, 7, 3, -1, -3, -4, -12, -14, -15, -16, -19, -19, -20, -22, -26, -27, -29, -29, -30, -31, -34, -39, -42, -44, -46, -46, -50, -50, -51, -52, -53, -57, -58, -58, -61, -64, -64, -64, -65, -66, -66, -69, -70, -71, -78, -80, -81, -82, -83, -86, -89, -89, -91, -93, -94, -95, -99]\n"
     ]
    }
   ],
   "source": [
    "Xsort = sorted(X, reverse=True)\n",
    "print(\"List X sorted in descending order:\", Xsort)"
   ]
  },
  {
   "cell_type": "markdown",
   "metadata": {
    "azdata_cell_guid": "8b28dade-dd4a-4953-b42d-a76a634c6007"
   },
   "source": [
    "**6.1** Then replace each value in Xsort with index i as the sum of the values with index i-1 and i. <br> "
   ]
  },
  {
   "cell_type": "code",
   "execution_count": 32,
   "metadata": {},
   "outputs": [
    {
     "name": "stdout",
     "output_type": "stream",
     "text": [
      "Modified Xsort: [100, 195, 188, 186, 185, 181, 176, 170, 166, 165, 156, 148, 145, 141, 139, 138, 136, 133, 132, 128, 123, 122, 122, 117, 110, 102, 96, 96, 95, 90, 83, 79, 77, 73, 68, 65, 64, 59, 53, 49, 42, 37, 33, 23, 15, 10, 2, -4, -7, -16, -26, -29, -31, -35, -38, -39, -42, -48, -53, -56, -58, -59, -61, -65, -73, -81, -86, -90, -92, -96, -100, -101, -103, -105, -110, -115, -116, -119, -125, -128, -128, -129, -131, -132, -135, -139, -141, -149, -158, -161, -163, -165, -169, -175, -178, -180, -184, -187, -189, -194]\n"
     ]
    }
   ],
   "source": [
    "# Modify Xsort with a for loop so that each index is the sum of the current element and the previous one\n",
    "for i in range(len(Xsort)-1, 0, -1): \n",
    "    Xsort[i] = Xsort[i - 1] + Xsort[i]\n",
    "\n",
    "# Print the modified list\n",
    "print(\"Modified Xsort:\", Xsort)"
   ]
  },
  {
   "cell_type": "markdown",
   "metadata": {},
   "source": [
    "- When replacing each value in a list at index `i` with the sum of the values at indices `i-1` and `i`, it is essential to handle the boundary conditions of the list appropriately. Specifically, for the first element of the list (`Xsort[0]`), there is no previous element (`i-1`), meaning the operation cannot be applied to this element. Therefore, it should remain unchanged to avoid any logical inconsistency.\n",
    "- In this case, starting from the last element and moving backward ensures that each element is updated based on the value of its predecessor before any of the values change. This avoids cumulative effects that would occur if we iterated from the beginning of the list, where each modified element would affect subsequent calculations.\n",
    "- For example, consider the list `Xsort = [8, 9, 4, 5]`. Applying the transformation `Xsort[i] = Xsort[i] + Xsort[i-1]` backward from the last element ensures that the original values of the list are preserved for each step of the calculation:\n",
    "\n",
    "1. Start at `i = 3`:  \n",
    "   `Xsort[3] = Xsort[3] + Xsort[2] = 5 + 4 = 9`  \n",
    "   Updated list: `[8, 9, 4, 9]`\n",
    "\n",
    "2. Move to `i = 2`:  \n",
    "   `Xsort[2] = Xsort[2] + Xsort[1] = 4 + 9 = 13`  \n",
    "   Updated list: `[8, 9, 13, 9]`\n",
    "\n",
    "3. Move to `i = 1`:  \n",
    "   `Xsort[1] = Xsort[1] + Xsort[0] = 9 + 8 = 17`  \n",
    "   Updated list: `[8, 17, 13, 9]`\n",
    "\n",
    "- SO `Xsort[0]` is left unchanged since there is no element before it.\n",
    "- By iterating backward, the values that need to be summed are always in their original, unmodified state. This prevents any issues with cumulative sums that would arise if we modified earlier elements before they are used in subsequent sums. If we had started from the beginning, every time we modified an element, it would affect the summation of the following elements, resulting in incorrect cumulative sums.\n",
    "- `Avoiding Negative Indexing`: Python’s negative indexing can access elements from the end of the list, but it's not relevant when summing adjacent elements. Therefore, we should avoid circular logic, which might lead to unintended outcomes (e.g., summing `Xsort[0]` with `Xsort[-1]` would create a link between the first and last elements, which is not desired in this linear operation).\n",
    "- `Special Case for Xsort[0]`: If we apply the summation logic (i.e., Xsort[i] = Xsort[i] + Xsort[i-1]) to Xsort[0], it would result in an incorrect operation. Specifically, Xsort[0] would be summed with Xsort[-1], which might already be modified due to previous summations. This creates an inconsistency where Xsort[0] is not treated the same as other indices. For all other indices, the summation only involves adjacent unmodified elements. Hence, Xsort[0] should remain unchanged, or at the very least, its update should not involve a circular reference to Xsort[-1].\n",
    "\n",
    "Thus:\n",
    "\n",
    "- The first element remains unchanged.\n",
    "- Each element is updated based on its unmodified predecessor.\n",
    "- No cumulative effect interferes with the correctness of the summation process.\n",
    "\n",
    "By following this logic, the operation remains consistent and reversible without introducing any flawed logic."
   ]
  },
  {
   "cell_type": "markdown",
   "metadata": {
    "azdata_cell_guid": "81fda31b-3c96-4dab-84e6-c658d74cd167"
   },
   "source": [
    "## Exercise II - The Most Uncool Band\n",
    "\n",
    "**7**: Consider the dictionaries  *songs* and *users* that are declared in the cell below. <br>\n",
    "Create a list with the names of the people who listened to more than one song. Print the List. <br>"
   ]
  },
  {
   "cell_type": "code",
   "execution_count": 36,
   "metadata": {
    "azdata_cell_guid": "6a58568a-a613-4d86-9fe3-340a75c03d83",
    "language": "python"
   },
   "outputs": [],
   "source": [
    "songs = {\n",
    "    \"4589\": \"Mr. Blue Sky, Calling America, Twilight, Night in the City\",\n",
    "    \"7312\": \"Strange Magic, Sweet Talkin' Woman, Turn to Stone\",\n",
    "    \"9641\": \"Confusion, Last Train to London, All Over the World, Hold On Tight\",\n",
    "    \"2853\": \"Can't Get It Out of My Head, Showdown, Twilight\",\n",
    "    \"6704\": \"Ticket to the Moon, Here Is the News, Twilight, Secret Messages, Four Little Diamonds\"\n",
    "}"
   ]
  },
  {
   "cell_type": "code",
   "execution_count": 38,
   "metadata": {
    "azdata_cell_guid": "7e00ecb8-4d8b-4e20-98e1-5a74d07e839d",
    "language": "python"
   },
   "outputs": [],
   "source": [
    "users = {\n",
    "    \"4589\": \"Eve\",\n",
    "    \"7312\": \"Diana\",\n",
    "    \"9641\": \"Alice\",\n",
    "    \"2853\": \"Charlie\",\n",
    "    \"6704\": \"Bob\"\n",
    "}"
   ]
  },
  {
   "cell_type": "code",
   "execution_count": 40,
   "metadata": {},
   "outputs": [
    {
     "name": "stdout",
     "output_type": "stream",
     "text": [
      "People who listened to more than one song: ['Eve', 'Diana', 'Alice', 'Charlie', 'Bob']\n"
     ]
    }
   ],
   "source": [
    "# Using list comprehension to create a list of users who listened to more than one song\n",
    "users_w_multiple_songs = [users[user_id] for user_id, song_list in songs.items() if len(song_list.split(\", \")) > 1] # each song is seperated by a comma\n",
    "\n",
    "# Results\n",
    "print(\"People who listened to more than one song:\", users_w_multiple_songs)"
   ]
  },
  {
   "cell_type": "markdown",
   "metadata": {
    "azdata_cell_guid": "f2d0a78f-e2ec-4064-91ee-f105b45a34cb"
   },
   "source": [
    "**7.1** What is the name of the user who listened to the most songs?\n",
    "\n",
    "*Tip: You will want to check the methods associated with string manipulation. See the link: <br>\n",
    "https://python-reference.readthedocs.io/en/latest/docs/unicode/index.html*"
   ]
  },
  {
   "cell_type": "code",
   "execution_count": 43,
   "metadata": {},
   "outputs": [
    {
     "name": "stdout",
     "output_type": "stream",
     "text": [
      "User who listened to the most songs: Bob\n"
     ]
    }
   ],
   "source": [
    "# Fisrt we Find the maximum number of songs listened to by any user and collect the users with that count\n",
    "max_song_count = max(len(s.split(\", \")) for s in songs.values())\n",
    "most_songs_user_names = [users[uid] for uid, s in songs.items() if len(s.split(\", \")) == max_song_count]\n",
    "\n",
    "# Output the result, handling a potential tie cases! (we test this altering the input)\n",
    "print(\"Users who listened to the most songs:\" if len(most_songs_user_names) > 1 else \"User who listened to the most songs:\", \", \".join(most_songs_user_names))"
   ]
  },
  {
   "attachments": {},
   "cell_type": "markdown",
   "metadata": {
    "azdata_cell_guid": "174ab4dd-fe6b-4adb-ab7a-7a2839bd6ceb"
   },
   "source": [
    "**7.2** What is the name of the most popular song?"
   ]
  },
  {
   "cell_type": "code",
   "execution_count": 46,
   "metadata": {},
   "outputs": [
    {
     "name": "stdout",
     "output_type": "stream",
     "text": [
      "Most popular song: Twilight\n"
     ]
    }
   ],
   "source": [
    "# Most popular song = listened for more users\n",
    "song_count = {}\n",
    "most_popular_songs = []\n",
    "highest_count = 0\n",
    "\n",
    "for song_list in songs.values():\n",
    "    for song in song_list.split(\", \"):\n",
    "        song_count[song] = song_count.get(song, 0) + 1\n",
    "\n",
    "        if song_count[song] > highest_count:\n",
    "            highest_count = song_count[song]\n",
    "            most_popular_songs = [song]\n",
    "        elif song_count[song] == highest_count:\n",
    "            most_popular_songs.append(song)\n",
    "\n",
    "# Output the result, handling a potential tie cases! (we test this altering the input)\n",
    "result = \"Most popular song\" if len(most_popular_songs) == 1 else \"Most popular songs (tie)\"\n",
    "print(result + \": \" + \", \".join(most_popular_songs))"
   ]
  },
  {
   "cell_type": "markdown",
   "metadata": {
    "azdata_cell_guid": "94a55247-f015-4d77-854e-fae4b1a1762f"
   },
   "source": [
    "# <span style=\"color:brown\"> Part 2 -  Data loading and analysis  </span>\n",
    "\n",
    "## Exercise I - Alice what do you have to say?\n",
    "\n",
    "**8**: Load the Alice text file into a variable called Alice. <br>\n",
    "\n",
    "*Note: Use a relative filepath in relation to the location of your notebook.*"
   ]
  },
  {
   "cell_type": "code",
   "execution_count": 48,
   "metadata": {},
   "outputs": [
    {
     "name": "stdout",
     "output_type": "stream",
     "text": [
      "Alice was beginning to get very tired of sitting by her sister on the bank, and of having nothing to do: once or twice she had peeped into the book her sister was reading, but it had no pictures or conversations in it, <<and what is the use of a book>>. thought Alice <<without pictures or conversation?>>.\n"
     ]
    }
   ],
   "source": [
    "#import os to load relative filepath - only use built in python \n",
    "# alice.txt is stored in the same directory as this script, that's why we only use 'alice.txt' instead of the complete file path.\n",
    "# Open the file using a context manager\n",
    "with open(os.path.join(os.getcwd(), 'alice.txt'), 'r') as file:\n",
    "    Alice = file.read()\n",
    "\n",
    "print(Alice)"
   ]
  },
  {
   "cell_type": "markdown",
   "metadata": {
    "azdata_cell_guid": "2381bb60-1869-4065-8555-500e724e66b7"
   },
   "source": [
    "**9**: Create a list in which each element is a word from the file *Alice*. Store that list in a variable called *wAlice*. <br>\n",
    "\n",
    "*Note: You will need to do some text parsing here. In particular to split the sentences into words. It is also a good practice to normalize words so that words \"Hello\" and \"hello\" become identical, by making all letters lower case. <br>*\n",
    "\n",
    "*Tip: check the following links for a discussion on regular expressions. Also consult the methods available for string manipulation.*\n",
    "\n",
    "https://docs.python.org/3/library/re.html\n",
    "\n",
    "https://stackoverflow.com/questions/1276764/stripping-everything-but-alphanumeric-chars-from-a-string-in-python"
   ]
  },
  {
   "cell_type": "code",
   "execution_count": 50,
   "metadata": {},
   "outputs": [
    {
     "name": "stdout",
     "output_type": "stream",
     "text": [
      "['alice', 'was', 'beginning', 'to', 'get', 'very', 'tired', 'of', 'sitting', 'by', 'her', 'sister', 'on', 'the', 'bank', 'and', 'of', 'having', 'nothing', 'to', 'do', 'once', 'or', 'twice', 'she', 'had', 'peeped', 'into', 'the', 'book', 'her', 'sister', 'was', 'reading', 'but', 'it', 'had', 'no', 'pictures', 'or', 'conversations', 'in', 'it', 'and', 'what', 'is', 'the', 'use', 'of', 'a', 'book', 'thought', 'alice', 'without', 'pictures', 'or', 'conversation']\n"
     ]
    }
   ],
   "source": [
    "# Fist, we normalize the text, meaning, convert it to lowercase\n",
    "Alice = Alice.lower()\n",
    "\n",
    "#Then, we compile the regex pattern to remove non-word characters and underscores\n",
    "#code adapted from [Stripping everything but alphanumeric chars from a string in Python]\n",
    "#(https://stackoverflow.com/questions/1276764/stripping-everything-but-alphanumeric-chars-from-a-string-in-python) topic.\n",
    "pattern = re.compile(r'[\\W_]+')\n",
    "cleaned_text = pattern.sub(' ', Alice) # in here the non-word characters are replaced by ' '\n",
    "\n",
    "# Now, we split the cleaned text into a list of words\n",
    "wAlice = cleaned_text.split()\n",
    "\n",
    "# Print the list of words\n",
    "print(wAlice)"
   ]
  },
  {
   "cell_type": "markdown",
   "metadata": {
    "azdata_cell_guid": "0d06551d-dbba-4d12-a6eb-06e951e9a16d"
   },
   "source": [
    "##### Using the list *wAlice* answer the following questions:<br>\n",
    "**10**: How many words are in the file Alice.txt? <br>"
   ]
  },
  {
   "cell_type": "code",
   "execution_count": 52,
   "metadata": {
    "azdata_cell_guid": "3e4d00f9-904b-4e66-baeb-5f13b4bc78f2",
    "language": "python"
   },
   "outputs": [
    {
     "name": "stdout",
     "output_type": "stream",
     "text": [
      "Total number of words: 57\n"
     ]
    }
   ],
   "source": [
    "total_words = len(wAlice)\n",
    "print(f\"Total number of words: {total_words}\")"
   ]
  },
  {
   "cell_type": "markdown",
   "metadata": {
    "azdata_cell_guid": "9241d994-54a6-4446-90bb-243de6870156"
   },
   "source": [
    "**11**: What is the longest and smallest word in the text file?\n",
    "\n",
    "*Note: Length in this case is measured in terms of the number of characters.*"
   ]
  },
  {
   "cell_type": "code",
   "execution_count": 55,
   "metadata": {},
   "outputs": [
    {
     "name": "stdout",
     "output_type": "stream",
     "text": [
      "Longest word(s): conversations (length: 13)\n",
      "Smallest word(s): a (length: 1)\n"
     ]
    }
   ],
   "source": [
    "#In this we find the the words that have the same len as the max or min len in the wAlice list, meaning we store this to have a way of identifying ties\n",
    "longest_words = [word for word in wAlice if len(word) == max(map(len, wAlice))]\n",
    "smallest_words = [word for word in wAlice if len(word) == min(map(len, wAlice))]\n",
    "\n",
    "# Results\n",
    "print(f\"Longest word(s): {', '.join(longest_words)} (length: {len(longest_words[0])})\")\n",
    "print(f\"Smallest word(s): {', '.join(smallest_words)} (length: {len(smallest_words[0])})\")"
   ]
  },
  {
   "cell_type": "markdown",
   "metadata": {
    "azdata_cell_guid": "70600fb8-a4e8-44c3-8d13-a51ac2518cdc"
   },
   "source": [
    "**12**: Delete all the repeated words from *wAlice*. "
   ]
  },
  {
   "cell_type": "code",
   "execution_count": 57,
   "metadata": {
    "azdata_cell_guid": "857042fc-ce95-4eff-90a7-28bb616b6bcb",
    "language": "python"
   },
   "outputs": [],
   "source": [
    "wAlice = list(set(wAlice))  # Convert to a set to remove duplicates and back to a list - \n",
    "#A Set in Python programming is an unordered collection data type that is iterable and has NO duplicate elements."
   ]
  },
  {
   "cell_type": "markdown",
   "metadata": {
    "azdata_cell_guid": "659c72f5-5c99-457f-93dc-368df1b19b09"
   },
   "source": [
    "**12.1**:How many different words does the text contain?"
   ]
  },
  {
   "cell_type": "code",
   "execution_count": 59,
   "metadata": {
    "azdata_cell_guid": "ee75c0e2-d12d-41b0-91b2-2e47f6f2ce5d",
    "language": "python"
   },
   "outputs": [
    {
     "name": "stdout",
     "output_type": "stream",
     "text": [
      "Number of different words: 41\n"
     ]
    }
   ],
   "source": [
    "different_words_count = len(wAlice) # wAlice now only has unique words - after 12) (57-16)\n",
    "print(f\"Number of different words: {different_words_count}\")"
   ]
  },
  {
   "cell_type": "markdown",
   "metadata": {
    "azdata_cell_guid": "31db8f85-0157-4330-9d8b-e3824dc98cf4"
   },
   "source": [
    "## Exercise II - Of Countries I Love\n",
    "\n",
    "Consider the list countries in the cell below. <br>\n",
    "It consists of a list of the 3-digit ISO codes of a set of countries of interest.\n",
    "\n",
    "**Note**: If you find the below list of tuples to be erroneous, correct it accordingly and comment on your correction."
   ]
  },
  {
   "cell_type": "code",
   "execution_count": 61,
   "metadata": {
    "azdata_cell_guid": "f94c837d-e6da-4456-b7e8-6f1b73752be4",
    "language": "python"
   },
   "outputs": [],
   "source": [
    "countries = [\n",
    "\n",
    "('PRT','Portugal','Europe'),\n",
    "('ISL','Israel','Asia'),\n",
    "('COL','Colombia','South America'),\n",
    "('NEV','Nevada','North America'),\n",
    "('JPN','Japan','Asia'),\n",
    "('RUS','Russia','well... which part?'), \n",
    "('DEN','Denmark','Europe'),\n",
    "('NOR','Norway','Europe')\n",
    "]"
   ]
  },
  {
   "cell_type": "markdown",
   "metadata": {},
   "source": [
    "* `We are going to correct this list of tuples automatically using the cdata.csv`\n",
    "List of Errors:\n",
    "- Nevada (NEV): Nevada is not a country, its a state, should be replaced with a valid country ('USA' for the United States) - Since the exercise explicits correct.\n",
    "- Israel (ISL): Incorrect ISO code for Israel, it should be 'ISR', ISL is the iso code of Iceland, but since the .\n",
    "- Russia (RUS): Ambiguous continent (\"well... which part?\"), should be clarified as either Europe or Asia.\n",
    "- Denmark (DEN): Incorrect ISO code for Denmark, it should be 'DNK'.\n",
    "\n",
    "`Note:` Colombia does note appear in the cdata.csv"
   ]
  },
  {
   "cell_type": "markdown",
   "metadata": {
    "azdata_cell_guid": "32d11f97-16ca-4c0c-a465-f3d33810c9e5"
   },
   "source": [
    "**Now consider the file *cdata.csv* that you should download.** <br>\n",
    "\n",
    "The file contains several information about countries, and is organized as follows:\n",
    "1. Column 1 is the 3-digit **ISO Code**\n",
    "2. Column 2 is the **Full Name** of the country\n",
    "3. Column 3 is the **Continent** of the country\n",
    "4. Column 4 is the **Population Size** in 2010\n",
    "5. Column 5 is the **GDP per capita** in 2010"
   ]
  },
  {
   "cell_type": "markdown",
   "metadata": {
    "azdata_cell_guid": "7012d00f-935f-4708-a435-33c480e10af8"
   },
   "source": [
    "**13**: Using the Library CSV from Python STL, load the file *cdata.csv* into an object called *raw*. "
   ]
  },
  {
   "cell_type": "code",
   "execution_count": 63,
   "metadata": {},
   "outputs": [],
   "source": [
    "# Step 1: Load the CSV file into a list of dictionaries\n",
    "with open('cdata.csv', newline='') as csvfile:\n",
    "    reader = csv.DictReader(csvfile)\n",
    "    raw = list(reader)\n",
    "\n",
    "# Print the list of dictionaries to verify\n",
    "#for row in raw:\n",
    "#    print(row)"
   ]
  },
  {
   "cell_type": "markdown",
   "metadata": {},
   "source": [
    "# *\n",
    "correcting the lilst countries"
   ]
  },
  {
   "cell_type": "code",
   "execution_count": 65,
   "metadata": {},
   "outputs": [
    {
     "name": "stdout",
     "output_type": "stream",
     "text": [
      "Corrected Countries:\n",
      "[('PRT', 'Portugal', 'Europe'), ('ISR', 'Israel', 'Asia'), ('COL', 'Colombia', 'South America'), ('USA', 'United States', 'North America'), ('JPN', 'Japan', 'Asia'), ('RUS', 'Russia', 'Asia'), ('DNK', 'Denmark', 'Europe'), ('NOR', 'Norway', 'Europe')]\n",
      "\n",
      "Countries Not Found in Raw Data:\n",
      "['Colombia']\n"
     ]
    }
   ],
   "source": [
    "#Doing this with the file ensures a more comparable dataset.\n",
    "#This means that the same country in both objects will have the same continent and ISO code.\n",
    "#Also, it makes it easier to identify cases with many errors that could be overlooked.\n",
    "\n",
    "# 1: Create a dictionary from raw data with country names as the key\n",
    "raw_dict_by_name = {row['countryname'].lower(): row for row in raw}\n",
    "\n",
    "# 2: Define a function to apply corrections or track not found countries\n",
    "not_found_countries = []\n",
    "\n",
    "def correct_country(country):\n",
    "    iso_code, name, continent = country\n",
    "    name_lower = name.lower()\n",
    "\n",
    "    # Special case for Nevada\n",
    "    if name_lower == 'nevada':\n",
    "        return ('USA', 'United States', 'North America') #we decided to maintain the line but correct to the actual country of Nevada\n",
    "    \n",
    "    # Lookup country data in the raw dictionary\n",
    "    country_data = raw_dict_by_name.get(name_lower)\n",
    "    \n",
    "    if country_data:\n",
    "        return (country_data['iso'].upper(), country_data['countryname'], country_data['continent'])\n",
    "    else:\n",
    "        not_found_countries.append(name)  # Track not found country - its import to know for future comparisons\n",
    "        return (iso_code, name, continent)\n",
    "\n",
    "# 3: Apply the correction function using map\n",
    "countries = list(map(correct_country, countries))\n",
    "\n",
    "# Corrected list and the list of not found countries\n",
    "print(\"Corrected Countries:\")\n",
    "print(countries)\n",
    "\n",
    "print(\"\\nCountries Not Found in Raw Data:\")\n",
    "print(not_found_countries)"
   ]
  },
  {
   "cell_type": "markdown",
   "metadata": {
    "azdata_cell_guid": "85c705cd-f6a1-415d-9a23-9fd03c4fe519"
   },
   "source": [
    "**13.1**: Create a dictionary called *cData* in which the key corresponds to the 3-digit ISO Code and the value is a tuple with the information contained in the 2nd to the 5th of column of the cdata file."
   ]
  },
  {
   "cell_type": "code",
   "execution_count": 67,
   "metadata": {},
   "outputs": [
    {
     "data": {
      "text/plain": [
       "[('PRT', 'Portugal', 'Europe'),\n",
       " ('ISR', 'Israel', 'Asia'),\n",
       " ('COL', 'Colombia', 'South America'),\n",
       " ('USA', 'United States', 'North America'),\n",
       " ('JPN', 'Japan', 'Asia'),\n",
       " ('RUS', 'Russia', 'Asia'),\n",
       " ('DNK', 'Denmark', 'Europe'),\n",
       " ('NOR', 'Norway', 'Europe')]"
      ]
     },
     "execution_count": 67,
     "metadata": {},
     "output_type": "execute_result"
    }
   ],
   "source": [
    "countries"
   ]
  },
  {
   "cell_type": "code",
   "execution_count": 69,
   "metadata": {},
   "outputs": [],
   "source": [
    "# Step 1: Create the cData dictionary\n",
    "cData = {\n",
    "    row['iso'].upper(): (row['countryname'], row['continent'], float(row['population(mil)']), float(row['gdp']))\n",
    "    for row in raw\n",
    "}\n",
    "\n",
    "\n",
    "# TO CHECK THE FIRTS 5 KEY-VALUE PAIRS (during testing)\n",
    "# Step 2: Display only the first 5 entries of cData in the specified format\n",
    "#sample_cData = {k: cData[k] for k in list(cData.keys())[:5]}  # Create a sample with only 5 entries\n",
    "\n",
    "# Print the sample cData dictionary\n",
    "#print(sample_cData)"
   ]
  },
  {
   "cell_type": "markdown",
   "metadata": {
    "azdata_cell_guid": "93fd7f1b-c259-4375-b140-d0710028d2d5"
   },
   "source": [
    "**14**: Using *cData*, identify what is the most common Continent among the nations in the list *countries*."
   ]
  },
  {
   "cell_type": "code",
   "execution_count": 71,
   "metadata": {},
   "outputs": [
    {
     "name": "stdout",
     "output_type": "stream",
     "text": [
      "The most common continent(s): Europe, Asia with 3 occurrence(s)\n"
     ]
    }
   ],
   "source": [
    "# In this exercise, we assume that \"the most common continent among the nations in the list `countries`\" means the most frequently appearing continent in the `countries` list. \n",
    "#Although we could determine this using only the `countries` list, we are going to match the ISO codes from the `countries` list with `cData`\n",
    "#and use it to achieve the result, as this appears to be the exact way the exercise intends.\n",
    "\n",
    "# 1: Initialize a dictionary to store continent frequencies.\n",
    "continent_count = {}\n",
    "\n",
    "# 2: Loop through the countries list to get the continent for each country.\n",
    "for country in countries:\n",
    "    iso_code = country[0]  # The country ISO code, e.g., 'PRT' for Portugal\n",
    "    if iso_code in cData:\n",
    "        continent = cData[iso_code][1]  # Continent is the second item in the cData tuple\n",
    "        continent_count[continent] = continent_count.get(continent, 0) + 1  # Increment count\n",
    "\n",
    "# 3: Find the maximum frequency\n",
    "max_count = max(continent_count.values())\n",
    "\n",
    "# 4: Get all continents with the maximum count\n",
    "most_common_continents = [continent for continent, count in continent_count.items() if count == max_count]\n",
    "\n",
    "# 5: Output the result, handling ties\n",
    "print(f\"The most common continent(s): {', '.join(most_common_continents)} with {max_count} occurrence(s)\")"
   ]
  },
  {
   "cell_type": "markdown",
   "metadata": {
    "azdata_cell_guid": "d2affb22-26b4-473d-b634-7a4192130eab"
   },
   "source": [
    "**15**: Using *cData*, identify what is the the most populated nation in the list *countries*."
   ]
  },
  {
   "cell_type": "code",
   "execution_count": 73,
   "metadata": {},
   "outputs": [
    {
     "name": "stdout",
     "output_type": "stream",
     "text": [
      "The most populated nation is: United States with 308.6413879394531 (mil) people.\n"
     ]
    }
   ],
   "source": [
    "# 1: Initializing variables to store the most populated country and its population - country that appears in the list countries as well \n",
    "most_populated_country = None\n",
    "max_population = 0\n",
    "\n",
    "# 2: Loop through the countries list to find the most populated country\n",
    "for country in countries:\n",
    "    iso_code = country[0]  # The country ISO code, e.g., 'PRT' for Portugal\n",
    "    \n",
    "    # 3: Use cData to get the population (third item in the tuple is the population in millions)\n",
    "    if iso_code in cData:\n",
    "        population = cData[iso_code][2]  # Population is the third element in the cData tuple\n",
    "        \n",
    "        # 4: Check if this country has the highest population so far\n",
    "        if population > max_population:\n",
    "            max_population = population\n",
    "            most_populated_country = country[1]\n",
    "\n",
    "# 5: Output the result\n",
    "print(f\"The most populated nation is: {most_populated_country} with {max_population} (mil) people.\")"
   ]
  },
  {
   "cell_type": "markdown",
   "metadata": {
    "azdata_cell_guid": "076a874b-972b-4b7d-ac05-f51a64fbd1b6"
   },
   "source": [
    "**16**: Compare the average GDP per capita of the nations in the list *countries* with the average GDP of the countries in cdata file. What can you conclude?"
   ]
  },
  {
   "cell_type": "code",
   "execution_count": 75,
   "metadata": {},
   "outputs": [
    {
     "name": "stdout",
     "output_type": "stream",
     "text": [
      "Average GDP per capita of countries in the list: 39850.915807897974\n",
      "Average GDP per capita of all countries in cData: 18014.65454394603\n",
      "Conclusion: The countries in the list have a higher average GDP per capita than the global average.\n"
     ]
    }
   ],
   "source": [
    "#Column 5 is the GDP per capita in 2010\n",
    "\n",
    "# 1: Initializing variables to store GDP per capita sums and country counts\n",
    "gdp_sum_countries_list = 0\n",
    "gdp_sum_cdata = 0\n",
    "count_countries_list = 0\n",
    "count_cdata = len(cData)  # Total number of countries in cData\n",
    "\n",
    "# 2: Calculate the average GDP per capita for the countries in the `countries` list\n",
    "for country in countries:\n",
    "    iso_code = country[0]  # The country ISO code, e.g., 'PRT' for Portugal\n",
    "    \n",
    "    # Only consider countries present in both lists\n",
    "    if iso_code in cData:\n",
    "        gdp_per_capita = cData[iso_code][3]  # GDP per capita is the fourth element in cData tuple\n",
    "        gdp_sum_countries_list += gdp_per_capita\n",
    "        count_countries_list += 1\n",
    "\n",
    "# 3: Calculate the average GDP per capita for all countries in `cData`\n",
    "for data in cData.values():\n",
    "    gdp_sum_cdata += data[3] \n",
    "\n",
    "# 4: Calculate averages\n",
    "average_gdp_countries_list = gdp_sum_countries_list / count_countries_list if count_countries_list > 0 else 0 # Average GDP per capita for the countries in the list countries - we use the length of the created list instead of the length of the list of countries \n",
    "    #because we don't have data for Colombia. This means we cannot divide by more countries than we have data for to avoid skewing the results.\n",
    "average_gdp_cdata = gdp_sum_cdata / count_cdata if count_cdata > 0 else 0\n",
    "\n",
    "# 5: Results\n",
    "print(f\"Average GDP per capita of countries in the list: {average_gdp_countries_list}\")\n",
    "print(f\"Average GDP per capita of all countries in cData: {average_gdp_cdata}\")\n",
    "\n",
    "# 6: Conclusion based on comparison\n",
    "if average_gdp_countries_list > average_gdp_cdata:\n",
    "    conclusion = \"The countries in the list have a higher average GDP per capita than the global average.\"\n",
    "elif average_gdp_countries_list < average_gdp_cdata:\n",
    "    conclusion = \"The countries in the list have a lower average GDP per capita than the global average.\"\n",
    "else:\n",
    "    conclusion = \"The countries in the list have the same average GDP per capita as the global average.\"\n",
    "\n",
    "print(f\"Conclusion: {conclusion}\")"
   ]
  },
  {
   "cell_type": "markdown",
   "metadata": {},
   "source": [
    "`Conclusions`: The selected countries, although they are few, have a significantly higher GDP per capita, which makes sense considering that all the countries on the list considered for the calculations are developed. NOTE, while Colombia is often considered not to be a developed country [Investopedia article](https://www.investopedia.com/ask/answers/090915/colombia-emerging-market-economy.asp), this does not matter since it is not included in the calculations, as the data file does not contain information for Colombia."
   ]
  },
  {
   "cell_type": "markdown",
   "metadata": {
    "azdata_cell_guid": "6d589000-f786-4bd2-b09a-5dcde953d04a"
   },
   "source": [
    "# <span style=\"color:brown\"> Part 3 - Functions hurt nobody </span>\n",
    "\n",
    "## Exercise I - I hate math\n",
    "\n",
    "##### Consider the following equation:\n",
    "\n",
    "\\begin{equation}\n",
    "    y = 6x^2 + 3x + 2 + cos(x)\n",
    "\\end{equation}\n",
    "\n",
    "**17**: Write a function called *f* that takes one argument, x, and returns y according to the equation above. *Note: You should use the module math to solve this exercise.*"
   ]
  },
  {
   "cell_type": "code",
   "execution_count": 77,
   "metadata": {},
   "outputs": [],
   "source": [
    "# import math - imported above\n",
    "def f(x):\n",
    "    \"\"\"\n",
    "    Calculates the value of the equation:\n",
    "    y = 6x^2 + 3x + 2 + cos(x)\n",
    "    \"\"\"\n",
    "    return 6 * x**2 + 3 * x + 2 + math.cos(x)"
   ]
  },
  {
   "cell_type": "markdown",
   "metadata": {
    "azdata_cell_guid": "968327bc-ce8d-483b-b7cd-174a37c6f326"
   },
   "source": [
    "**17.1**: Call the function for x = 2 and print the answer."
   ]
  },
  {
   "cell_type": "code",
   "execution_count": 79,
   "metadata": {},
   "outputs": [
    {
     "name": "stdout",
     "output_type": "stream",
     "text": [
      "31.583853163452858\n"
     ]
    }
   ],
   "source": [
    "result = f(2)\n",
    "print(result)"
   ]
  },
  {
   "cell_type": "markdown",
   "metadata": {
    "azdata_cell_guid": "466deb85-2188-4bf1-aa75-500ccc1d3bf5"
   },
   "source": [
    "##### Consider the following sequence of numbers:\n",
    "\n",
    "\\begin{equation}\n",
    "    x_0 = 0;  \\\\\n",
    "    x_{n} = x_{n-1} - n; ~~~ \\textit{ if} ~~~ x_{n-1}-n > 0 ~~~ \\textit{ and is not already in the sequence}\\\\\n",
    "    x_{n} = x_{n-1} + n; ~~~ \\textit{ otherwise} ~~~ ~~~ ~~~ ~~~ ~~ ~~~ ~~~ ~~~ ~~~ ~~~ ~ ~~~ ~~~ ~~~ ~~~ ~~~ ~~~ ~ ~~~ ~~~ ~~~~ ~~~ ~~~ ~~~ ~ \\\\\n",
    "\\end{equation}\n",
    "\n",
    "**17.2**: Write a function that returns the nth digit of the above defined sequence. <br>\n",
    "\n",
    "*Note: the above sequence is also known as the Recamán's sequence, and it was invented by Bernardo Recamán Santos (Bogotá, Colombia)*"
   ]
  },
  {
   "cell_type": "code",
   "execution_count": 81,
   "metadata": {},
   "outputs": [
    {
     "name": "stdin",
     "output_type": "stream",
     "text": [
      "{n}-th digit of the Recamán's sequence wanted?  8\n"
     ]
    },
    {
     "name": "stdout",
     "output_type": "stream",
     "text": [
      "The 8-th digit of the Recamán's sequence is: 20\n"
     ]
    }
   ],
   "source": [
    "def recamans_sequence(n):  \n",
    "    \"\"\"returns the nth digit of the Recamán's sequence\"\"\"\n",
    "    if n <= 0:  \n",
    "        raise ValueError(\"n must be a positive integer, > 0.\")  # Raise an error for invalid input - the nth digit has 1 as base, 0-th term does not exists\n",
    "  \n",
    "    sequence = [0]  \n",
    "    s = set()  \n",
    "    s.add(0)  # The sequence starts with sequence = [0]\n",
    "  \n",
    "    prev = 0  # The variable prev is initialized to 0, representing the last computed (previous) term in the sequence.\n",
    "    for i in range(1, n):  # Obtaining the remaining terms using the recursive formula.\n",
    "        curr = prev - i  # Attempts to compute the next term by subtracting 𝑖 from the last term (prev). \n",
    "        # If curr (current) is negative or already exists in the set 𝑠 (for quick membership testing, which helps in checking if curr is already in the sequence), \n",
    "        # it calculates a new curr as prev + i.\n",
    "        if curr < 0 or curr in s:  \n",
    "            curr = prev + i  \n",
    "        s.add(curr)  \n",
    "        sequence.append(curr)  \n",
    "        prev = curr  \n",
    "  \n",
    "    return sequence[n-1]  # Return the n-th term (1-based index) - 0-th term does not exists, starts at 1\n",
    "\n",
    "#Sources: https://www.geeksforgeeks.org/recamans-sequence/ AND https://www.javatpoint.com/recamans-sequence-using-python\n",
    "\n",
    "# Input and output - its possible to chose the nth digit\n",
    "n = int(input('{n}-th digit of the Recamán\\'s sequence wanted? '))\n",
    "print(f\"The {n}-th digit of the Recamán's sequence is: {recamans_sequence(n)}\")"
   ]
  },
  {
   "cell_type": "markdown",
   "metadata": {
    "azdata_cell_guid": "e0339d43-7bdf-4eeb-97c3-dcd01ecb0b35"
   },
   "source": [
    "**17.3** Write a function named isPrime that takes an integer as input and outputs True if the number is prime and False if the number if not prime. "
   ]
  },
  {
   "cell_type": "code",
   "execution_count": 83,
   "metadata": {},
   "outputs": [],
   "source": [
    "def isPrime(n):\n",
    "    \"\"\"Check if the given integer n is a prime number.\"\"\"\n",
    "    flag = 0\n",
    "    for i in range(1, n+1):\n",
    "        if n % i == 0:\n",
    "            flag += 1\n",
    "    if flag == 2: #A prime number is only divisible by 1 and itself, meaning it has exactly two divisors: 1 and the number itself with %==0.\n",
    "        return True\n",
    "    return False"
   ]
  },
  {
   "cell_type": "markdown",
   "metadata": {
    "azdata_cell_guid": "4c55b11a-0733-432b-9d1a-4e789e9d8d07"
   },
   "source": [
    "**17.4** Test your function against some examples to show that it works as expected."
   ]
  },
  {
   "cell_type": "code",
   "execution_count": 85,
   "metadata": {},
   "outputs": [
    {
     "name": "stdout",
     "output_type": "stream",
     "text": [
      "isPrime(2) = True; expected = True. Passed\n",
      "isPrime(3) = True; expected = True. Passed\n",
      "isPrime(4) = False; expected = False. Passed\n",
      "isPrime(5) = True; expected = True. Passed\n",
      "isPrime(9) = False; expected = False. Passed\n",
      "isPrime(10) = False; expected = False. Passed\n",
      "isPrime(11) = True; expected = True. Passed\n",
      "isPrime(16) = False; expected = False. Passed\n",
      "isPrime(23) = True; expected = True. Passed\n"
     ]
    }
   ],
   "source": [
    "# Test cases\n",
    "test_cases = [\n",
    "    (2, True),    # 2 is prime\n",
    "    (3, True),    # 3 is prime\n",
    "    (4, False),   # 4 is not prime\n",
    "    (5, True),    # 5 is prime\n",
    "    (9, False),   # 9 is not prime\n",
    "    (10, False),  # 10 is not prime\n",
    "    (11, True),   # 11 is prime\n",
    "    (16, False),  # 16 is not prime\n",
    "    (23, True),   # 23 is prime\n",
    "]\n",
    "\n",
    "# Run tests\n",
    "for n, expected in test_cases:\n",
    "    result = isPrime(n)\n",
    "    print(f\"isPrime({n}) = {result}; expected = {expected}. {'Passed' if result == expected else 'Failed'}\")"
   ]
  },
  {
   "cell_type": "markdown",
   "metadata": {
    "azdata_cell_guid": "43c0416a-5dd8-4eec-962d-2b4a8957de8f"
   },
   "source": [
    "## Exercise II - Monty Hall Problem\n"
   ]
  },
  {
   "cell_type": "markdown",
   "metadata": {
    "azdata_cell_guid": "de47a880-e0c7-44fe-afbb-c359a64f6472"
   },
   "source": [
    "**18**: The Monty Hall Problem is a probability puzzle loosely based on the American television game show \"Let's Make a Deal\" and named after its original host, Monty Hall. The puzzle can be stated as follows\n",
    "\n",
    "> Suppose you're on a game show, and you're given the choice of three doors: Behind one door is a car; behind the others, goats. You pick a door, say No. 1, and the host, who knows what's behind the doors, opens another door, say No. 3, which has a goat. He then says to you, \"Do you want to pick door No. 2?\" Is it to your advantage to switch your choice? <br>\n",
    "+info: https://en.wikipedia.org/wiki/Monty_Hall_problem\n",
    "\n",
    "While intuitively your guess might be that the chances of winning the car is 1/3 independently of the choice to switch doors or not. Howewver, the odds of winning if you switch doors are 2/3 and greater than if you decide not to switch. While there are theoretical solutions to this problem that allow us to estimate the correct odds of winning in each scenario -- switching or not doors -- an alternative way to proof such outcome is through computer simulations. That is the goal of this exercise, to write the necessary components to simulate the Monty Hall problem and validate the theoretical results through simulations.\n",
    "\n",
    "In this exercise, start by implementing a function that simulates one instance of the Monty Hall problem. \n",
    "In that sense, write a function called MontyHall that accepts **one argument**:\n",
    "- A boolean (True/False, or 1/0) that specifies if the player switches doors or not (after the host has opened his door, which contains a goat).\n",
    "The function should return True if the player wins the car or False if not.\n",
    "\n",
    "Naturally, for the function to reproduce the contest it needs to consider and perform some actions, such as:\n",
    "- Set up the game, that is, create the necessary variables to store the information about three doors and what they have behind, as well as an indicator to track the choice of the player.\n",
    "- Given the initial choice of the player, simulate the opening of one of the two remaining doors that contains a goat.\n",
    "- Given the last two doors left, simulate if the player wants to switch or not his/her choice given their strategy (defined by the input boolean argument of the function).\n",
    "- Output the result, if the contestant correctly guesses which door hides the car or if not.\n",
    "\n",
    "The function MontyHall should simulate one instance of the contest given the choice of the player (to switch or not).\n",
    "\n",
    "**The goal is to understand, statistically, which action leads to the highest probability of winning.** <br>\n",
    "*Note: You should use the library random to solve this exercise.*"
   ]
  },
  {
   "cell_type": "code",
   "execution_count": null,
   "metadata": {},
   "outputs": [],
   "source": [
    "#source of inspiration\n",
    "# https://scipython.com/book/chapter-4-the-core-python-language-ii/examples/the-monty-hall-problem/ \n",
    "#https://rosettacode.org/wiki/Monty_Hall_problem#Python"
   ]
  },
  {
   "cell_type": "code",
   "execution_count": 107,
   "metadata": {},
   "outputs": [
    {
     "name": "stdout",
     "output_type": "stream",
     "text": [
      "Player wins (switching)? True\n",
      "Player wins (not switching)? False\n"
     ]
    }
   ],
   "source": [
    "def MontyHall(switch: bool) -> bool:\n",
    "    # 1: This part set up the doors, where one randomly has a car and the others have goats\n",
    "    doors = [0, 0, 1]  # Two goats (0) and one car (1)\n",
    "    random.shuffle(doors)  # Shuffle the doors to randomize the car's position -> test example: [1, 0, 0]\n",
    "    \n",
    "    # 2: The player makes an initial random choice\n",
    "    player_choice = random.randint(0, 2) #-> test example: [0] has the prize\n",
    "    \n",
    "    # 3: Host opens one of the remaining doors that has a goat\n",
    "    remaining_doors = [i for i in range(3) if i != player_choice and doors[i] == 0] # -> test example: [1, 2] remaining doors with goat\n",
    "    host_opens = random.choice(remaining_doors) # in this case the host can choos between two with the goat  -> test example: [1]\n",
    "    \n",
    "    # 4: If the player switches, change the player's choice to the remaining unopened door\n",
    "    if switch:\n",
    "        player_choice = [i for i in range(3) if i != player_choice and i != host_opens][0] # -> test example: switch = True; in this test the output will be False,\n",
    "        #Player doesnt win, bc the player choose the door with the car in the first pick\n",
    "    \n",
    "    # 5: Return True if the player wins the car (door == 1), otherwise False \n",
    "    return doors[player_choice] == 1\n",
    "\n",
    "\n",
    "# Example run with switch set to True or False - we have a bigger chance to win if switch = True BUT as we can see there are exceptions!\n",
    "print(\"Player wins (switching)?\", MontyHall(True))\n",
    "print(\"Player wins (not switching)?\", MontyHall(False))"
   ]
  },
  {
   "cell_type": "markdown",
   "metadata": {
    "azdata_cell_guid": "26794ffb-921e-4b24-af18-6677236f475c"
   },
   "source": [
    "**18.1** Now that you have a function that simulates an instance of the Monty Hall problem, implement an experiment where you repeat many times (thousands of times) for each of the two possible scenarios: player switching the door, and player not switcing the door. Keep track of the results and estimate the frequencies of wins for each scenario and discuss if the results are inline with the theoretical odds."
   ]
  },
  {
   "cell_type": "code",
   "execution_count": 111,
   "metadata": {
    "azdata_cell_guid": "8618fc14-07bc-418c-b015-e35fa72a2532",
    "language": "python"
   },
   "outputs": [
    {
     "name": "stdout",
     "output_type": "stream",
     "text": [
      "After 100001 trials:\n",
      "Winning rate when switching: 66.94%\n",
      "Winning rate when not switching: 33.49%\n"
     ]
    }
   ],
   "source": [
    "def run_experiment(num_trials):\n",
    "    switch_wins = 0\n",
    "    no_switch_wins = 0\n",
    "    \n",
    "    for _ in range(num_trials):\n",
    "        # Simulate when the player switches\n",
    "        if MontyHall(switch=True):\n",
    "            switch_wins += 1\n",
    "        \n",
    "        # Simulate when the player does not switch\n",
    "        if MontyHall(switch=False):\n",
    "            no_switch_wins += 1\n",
    "    \n",
    "    # Calculate win frequencies\n",
    "    switch_win_rate = switch_wins / num_trials\n",
    "    no_switch_win_rate = no_switch_wins / num_trials\n",
    "    \n",
    "    # Print results\n",
    "    print(f\"After {num_trials} trials:\")\n",
    "    print(f\"Winning rate when switching: {switch_win_rate * 100:.2f}%\")\n",
    "    print(f\"Winning rate when not switching: {no_switch_win_rate * 100:.2f}%\")\n",
    "\n",
    "# Run the experiment with 100,001 trials\n",
    "run_experiment(100001)"
   ]
  },
  {
   "cell_type": "markdown",
   "metadata": {},
   "source": [
    "https://www.youtube.com/watch?v=-DqKSUSHwjc&t=369s\n",
    "\n",
    "When we repeat the scenario many times (thousands of times) for each of the two possible situations, we always get a result similar to this (approximately a 67% win rate when switching and a 33% win rate when not switching). To justify this, let's use the example of 100 doors. If I choose one door and then the host eliminates the other 98, all containing goats, we have the option of sticking with the one we initially chose or switching to the remaining door. In this scenario, our mind should switch instantly because there's no way we got it right on the first try. It's more likely that out of the 99 remaining doors, the one not open for the host (who know where is the car) is the one with the car.\n",
    "\n",
    "That's why we don't have a 50/50% chance of winning when the host opens one door, and we can choose to switch or stay with our first choice. If we switch to the closed door, we have a 2/3 (0.666667) chance of winning. The 1/3 option (loosing one) is the scenario where both of the remaining doors have goats. In the other 2/3 scenarios: we choose door one, the host opens door two with the goat, and we decide to go for door three, which has the car. The other scenario is that we choose one door, the host opens door three, and we switch to door two, which has the car. We can switch the order of the doors, but the chances remain the same. When we decide not to switch, we always have a 1/3 (0.3333...) chance (since we randomly choose 1 out of 3 doors)."
   ]
  },
  {
   "cell_type": "markdown",
   "metadata": {
    "azdata_cell_guid": "a3345eb4-da25-4c33-8cc8-af2c360463a1"
   },
   "source": [
    "## Exercise III\n",
    "\n",
    "**19**: Consider the list *A*, declared below. <br>\n",
    "Use the function map() to change the values of A by adding 1 to each value if it is even and subtracting 1 from it otherwise.\n",
    "\n",
    "**Note**: Carefully consider the values of list A and adapt your code accordingly to deal with number that are represented as strings."
   ]
  },
  {
   "cell_type": "code",
   "execution_count": 113,
   "metadata": {
    "azdata_cell_guid": "127cfa35-2338-455a-8779-1bdc908231d7",
    "language": "python"
   },
   "outputs": [],
   "source": [
    "A = [460,3347,3044,490,699,\"1258\",1804,973,2223,3416,\"2879\",1058,2915,2422,351,\"1543\",1020,208,643,\"795\",3337,\"2585\",471,2623,1077]"
   ]
  },
  {
   "cell_type": "code",
   "execution_count": 115,
   "metadata": {},
   "outputs": [],
   "source": [
    "def modify_value(num):\n",
    "    # Convert the number to an integer if it's a string\n",
    "    num = int(num)\n",
    "    \n",
    "    # Add 1 if the number is even, subtract 1 if odd\n",
    "    if num % 2 == 0:\n",
    "        return num + 1\n",
    "    else:\n",
    "        return num - 1"
   ]
  },
  {
   "cell_type": "code",
   "execution_count": 117,
   "metadata": {},
   "outputs": [
    {
     "name": "stdout",
     "output_type": "stream",
     "text": [
      "[461, 3346, 3045, 491, 698, 1259, 1805, 972, 2222, 3417, 2878, 1059, 2914, 2423, 350, 1542, 1021, 209, 642, 794, 3336, 2584, 470, 2622, 1076]\n"
     ]
    }
   ],
   "source": [
    "# Apply the transformation to each element in the list A\n",
    "A = list(map(modify_value, A))\n",
    "print(A)"
   ]
  },
  {
   "cell_type": "markdown",
   "metadata": {
    "azdata_cell_guid": "fc981573-04ee-4807-9558-01b750259bf1"
   },
   "source": [
    "**20**: Create a list B with the same size of A, where each element is True if the associated value in list A is greater than 700, else is False."
   ]
  },
  {
   "cell_type": "code",
   "execution_count": 119,
   "metadata": {},
   "outputs": [
    {
     "name": "stdout",
     "output_type": "stream",
     "text": [
      "[False, True, True, False, False, True, True, True, True, True, True, True, True, True, False, True, True, False, False, True, True, True, False, True, True]\n"
     ]
    }
   ],
   "source": [
    "#using List comprehension\n",
    "B = [int(x) > 700 for x in A] #checking for each element in A whether the integer value of that element is greater than 700.\n",
    "#This will return a list of boolean values (True or False)\n",
    "print(B)"
   ]
  },
  {
   "cell_type": "markdown",
   "metadata": {
    "azdata_cell_guid": "6c9c48eb-2f8f-4f39-90ad-8efbb0de771f"
   },
   "source": [
    "**21**: Create a list L that contains the Logarithm of base 10 of each value in A. <br>\n",
    "\n",
    "*Note: You should use the module math to solve this exercise.*"
   ]
  },
  {
   "cell_type": "code",
   "execution_count": 121,
   "metadata": {},
   "outputs": [
    {
     "name": "stdout",
     "output_type": "stream",
     "text": [
      "[2.663700925389648, 3.5245259366263757, 3.4835872969688944, 2.6910814921229687, 2.843855422623161, 3.1000257301078626, 3.256477206241677, 2.9876662649262746, 3.346744054604849, 3.5336449787987627, 3.4590907896005865, 3.024895960107485, 3.4644895474339714, 3.384353414137506, 2.5440680443502757, 3.188084373714938, 3.0090257420869104, 2.3201462861110542, 2.807535028068853, 2.8998205024270964, 3.523226041965701, 3.4122925093230463, 2.6720978579357175, 3.4186326873540653, 3.0318122713303706]\n"
     ]
    }
   ],
   "source": [
    "#using List comprehension\n",
    "L = [math.log10(int(x)) for x in A]\n",
    "print(L)"
   ]
  },
  {
   "cell_type": "markdown",
   "metadata": {
    "azdata_cell_guid": "3d4b0fe8-0b15-4834-bb31-c80aef2e2982"
   },
   "source": [
    "**22**: How many numbers in A are greater than 1000? <br>\n",
    "\n",
    "*Note: You should use the function filter().*"
   ]
  },
  {
   "cell_type": "code",
   "execution_count": 123,
   "metadata": {
    "azdata_cell_guid": "82986d2e-7d70-4226-9b07-4c646e0db534",
    "language": "python"
   },
   "outputs": [
    {
     "name": "stdout",
     "output_type": "stream",
     "text": [
      "16\n"
     ]
    }
   ],
   "source": [
    "greater_than_1000 = list(filter(lambda x: int(x) > 1000, A))\r\n",
    "count_greater_than_1000 = len(greater_than_1000)\r\n",
    "print(count_greater_than_1000)"
   ]
  },
  {
   "cell_type": "markdown",
   "metadata": {
    "azdata_cell_guid": "64499582-f23b-42aa-8063-f1b85596db0e"
   },
   "source": [
    "**23** Use the function isPrime, that you declared in 17.3, to identify which numbers from A are prime. Note that depending on your implementation of isPrime this task can take more or less time. Use filter to achieve this task."
   ]
  },
  {
   "cell_type": "code",
   "execution_count": 125,
   "metadata": {
    "azdata_cell_guid": "b7a03268-b46b-4fda-8adc-cde4b6b3baf8",
    "language": "python"
   },
   "outputs": [
    {
     "name": "stdout",
     "output_type": "stream",
     "text": [
      "[461, 491, 1259, 2423, 1021]\n"
     ]
    }
   ],
   "source": [
    "primes_in_A = list(filter(lambda x: isPrime(x), A))\r\n",
    "print(primes_in_A)"
   ]
  },
  {
   "cell_type": "markdown",
   "metadata": {
    "azdata_cell_guid": "ad95cee2-1b96-4717-9efd-a83157821a30"
   },
   "source": [
    "### Congratulations, it is done!"
   ]
  }
 ],
 "metadata": {
  "kernelspec": {
   "display_name": "Python 3 (ipykernel)",
   "language": "python",
   "name": "python3"
  },
  "language_info": {
   "codemirror_mode": {
    "name": "ipython",
    "version": 3
   },
   "file_extension": ".py",
   "mimetype": "text/x-python",
   "name": "python",
   "nbconvert_exporter": "python",
   "pygments_lexer": "ipython3",
   "version": "3.12.4"
  }
 },
 "nbformat": 4,
 "nbformat_minor": 4
}
